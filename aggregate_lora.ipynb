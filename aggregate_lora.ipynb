{
 "cells": [
  {
   "cell_type": "code",
   "execution_count": 1,
   "metadata": {},
   "outputs": [],
   "source": [
    "import glob\n",
    "import os\n",
    "from common.lora_resize import change_lora_rank\n",
    "from tqdm import tqdm\n",
    "import torch\n",
    "\n",
    "def aggregate_loras(path, rank):\n",
    "    files = glob.glob(f\"{path}/**/lora_layers_new.pth\", recursive=True)\n",
    "    loras = []\n",
    "    for f in tqdm(files):\n",
    "        # basically runs svd on it, this ensures down/up weights are balanced\n",
    "        state_dict = torch.load(f, map_location=\"cpu\")\n",
    "        state_dict = change_lora_rank(state_dict, rank)\n",
    "        loras.append(state_dict)\n",
    "    return loras\n"
   ]
  },
  {
   "cell_type": "code",
   "execution_count": null,
   "metadata": {},
   "outputs": [],
   "source": [
    "all_loras = aggregate_loras(\"models\", 8)\n",
    "torch.save(all_loras, \"models/lora_bundle.pt\")"
   ]
  },
  {
   "cell_type": "code",
   "execution_count": null,
   "metadata": {},
   "outputs": [],
   "source": []
  },
  {
   "cell_type": "code",
   "execution_count": null,
   "metadata": {},
   "outputs": [],
   "source": []
  }
 ],
 "metadata": {
  "kernelspec": {
   "display_name": "base",
   "language": "python",
   "name": "python3"
  },
  "language_info": {
   "codemirror_mode": {
    "name": "ipython",
    "version": 3
   },
   "file_extension": ".py",
   "mimetype": "text/x-python",
   "name": "python",
   "nbconvert_exporter": "python",
   "pygments_lexer": "ipython3",
   "version": "3.9.16"
  }
 },
 "nbformat": 4,
 "nbformat_minor": 2
}
